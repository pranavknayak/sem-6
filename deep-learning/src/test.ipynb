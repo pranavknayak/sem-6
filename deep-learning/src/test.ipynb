{
 "cells": [
  {
   "cell_type": "code",
   "execution_count": 1,
   "metadata": {},
   "outputs": [
    {
     "name": "stdout",
     "output_type": "stream",
     "text": [
      "tensor([[0.7429, 0.8184, 0.1221],\n",
      "        [0.4371, 0.3661, 0.3445],\n",
      "        [0.1477, 0.2182, 0.1533],\n",
      "        [0.2661, 0.7579, 0.1792],\n",
      "        [0.5358, 0.0952, 0.2644]])\n"
     ]
    }
   ],
   "source": [
    "import torch\n",
    "x = torch.rand(5, 3)\n",
    "print(x)"
   ]
  }
 ],
 "metadata": {
  "kernelspec": {
   "display_name": "dl",
   "language": "python",
   "name": "python3"
  },
  "language_info": {
   "codemirror_mode": {
    "name": "ipython",
    "version": 3
   },
   "file_extension": ".py",
   "mimetype": "text/x-python",
   "name": "python",
   "nbconvert_exporter": "python",
   "pygments_lexer": "ipython3",
   "version": "3.9.15"
  },
  "orig_nbformat": 4,
  "vscode": {
   "interpreter": {
    "hash": "c8e9d0d29387aa03c6d73bbaf2e98761fdfbe141fa4b5b48c1414f5268d8eb22"
   }
  }
 },
 "nbformat": 4,
 "nbformat_minor": 2
}
